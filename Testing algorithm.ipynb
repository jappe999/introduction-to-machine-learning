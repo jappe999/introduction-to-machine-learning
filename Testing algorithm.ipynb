{
 "cells": [
  {
   "cell_type": "markdown",
   "metadata": {},
   "source": [
    "# Testing algorithm\n",
    "\n",
    "To get a little insight in the world of Machine Learning, we decided to write and test the knowledge we gained from the course. Below you can find a simple perceptron class we found on [Medium](https://medium.com/@thomascountz/19-line-line-by-line-python-perceptron-b6f113b161f3) and used it to train a model to distiguish the color blue. In the first code block we defined the perceptron class and in the second block we train and test the model."
   ]
  },
  {
   "cell_type": "code",
   "execution_count": 4,
   "metadata": {},
   "outputs": [],
   "source": [
    "import numpy as np\n",
    "\n",
    "class Perceptron(object):\n",
    "\n",
    "    def __init__(self, no_of_inputs, threshold=100, learning_rate=0.01):\n",
    "        \"\"\"\n",
    "        no_of_inputs: The number of item in each training set\n",
    "        threshold: The number of times the training set is evaluated\n",
    "        learning_rate: The rate at which the the model is progressing\n",
    "        \"\"\"\n",
    "        self.threshold = threshold\n",
    "        self.learning_rate = learning_rate\n",
    "        self.weights = np.zeros(no_of_inputs + 1)\n",
    "           \n",
    "    def predict(self, inputs):\n",
    "        \"\"\"\n",
    "        inputs: The inputs to predict. It must have the same length of `no_of_inputs`\n",
    "        \"\"\"\n",
    "        summation = np.dot(inputs, self.weights[1:]) + self.weights[0]\n",
    "        return 1 if summation > 0 else 0\n",
    "\n",
    "    def train(self, training_inputs, labels):\n",
    "        \"\"\"\n",
    "        training_inputs: The inputs used for training the model\n",
    "        labels: The outputs for each predriction\n",
    "        \"\"\"\n",
    "        for _ in range(self.threshold):\n",
    "            for inputs, label in zip(training_inputs, labels):\n",
    "                prediction = self.predict(inputs)\n",
    "                self.weights[1:] += self.learning_rate * (label - prediction) * inputs\n",
    "                self.weights[0] += self.learning_rate * (label - prediction)"
   ]
  },
  {
   "cell_type": "markdown",
   "metadata": {},
   "source": [
    "With little effort we can define a set of colors in the RGB (Red, Green, Blue) format and define if it's blue (`1`) or not (`0`). After that we can test it using different colors."
   ]
  },
  {
   "cell_type": "code",
   "execution_count": 5,
   "metadata": {},
   "outputs": [
    {
     "name": "stdout",
     "output_type": "stream",
     "text": [
      "blue\n",
      "not blue\n",
      "blue\n",
      "not blue\n",
      "blue\n",
      "blue\n"
     ]
    }
   ],
   "source": [
    "# Define the training colors.\n",
    "training_inputs = [\n",
    "    np.array([0, 0, 255]),\n",
    "    np.array([0, 8, 183]),\n",
    "    np.array([28, 212, 237]),\n",
    "    np.array([237, 77, 28]),\n",
    "    np.array([128, 0, 255]),\n",
    "    np.array([100, 20, 224]),\n",
    "]\n",
    "\n",
    "# The labels indicate if a color is blue (1) or not (0).\n",
    "labels = np.array([1, 1, 1, 0, 0, 0])\n",
    "\n",
    "# Define and train the perceptron.\n",
    "perceptron = Perceptron(3)\n",
    "perceptron.train(training_inputs, labels)\n",
    "\n",
    "# Define the test colors.\n",
    "test_inputs = [\n",
    "    np.array([0, 255, 255]),\n",
    "    np.array([224, 20, 224]),\n",
    "    np.array([0, 20, 224]),\n",
    "    np.array([125, 20, 224]),\n",
    "    np.array([20, 150, 224]),\n",
    "    np.array([0, 178, 253]),\n",
    "]\n",
    "\n",
    "# Predict the outputs and we can validate if the output is correct or not.\n",
    "for input in test_inputs:\n",
    "    print(\"blue\" if perceptron.predict(input) else \"not blue\")"
   ]
  }
 ],
 "metadata": {
  "kernelspec": {
   "display_name": "Python 3",
   "language": "python",
   "name": "python3"
  },
  "language_info": {
   "codemirror_mode": {
    "name": "ipython",
    "version": 3
   },
   "file_extension": ".py",
   "mimetype": "text/x-python",
   "name": "python",
   "nbconvert_exporter": "python",
   "pygments_lexer": "ipython3",
   "version": "3.8.6"
  }
 },
 "nbformat": 4,
 "nbformat_minor": 4
}
